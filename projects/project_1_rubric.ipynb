{
 "cells": [
  {
   "cell_type": "markdown",
   "metadata": {},
   "source": [
    "<img src=\"https://images.efollett.com/htmlroot/images/templates/storeLogos/CA/864.gif\" style=\"float: right;\"> \n",
    "\n",
    "\n",
    "\n",
    "\n",
    "# ECON628-01 \n",
    "### Project 1 Rubric"
   ]
  },
  {
   "cell_type": "markdown",
   "metadata": {},
   "source": [
    "### Requirements\n",
    "\n",
    "1. You need to perform an exhaustive exploration of your dataset.\n",
    "2. Your code must show command and understanding of Python (Codeacademy and class 1,2,3 notes)\n",
    "3. You need to define functions (no matter how complicated they are)\n",
    "4. You don't need to do any modeling\n",
    "\n",
    "    1. Load and clean, if neccessary, the data with pandas.\n",
    "    2. Describe the data and investigate any outliers.\n",
    "    3. Explore relationships between the variables.\n",
    "    4. Visualize at least five variables of your choice with appropriate visualizations. They should be readable.\n",
    "    5. Visualize subsets of the variables you chose, subsetted conditional on some other variable. \n",
    "\n",
    "5. Write a brief report on at least 5 things you found interesting about the data or, if it doesn't interest you at all, things you found out and why they are boring."
   ]
  },
  {
   "cell_type": "markdown",
   "metadata": {
    "collapsed": true
   },
   "source": [
    "This is markdown - haha * testing bullet points"
   ]
  },
  {
   "cell_type": "code",
   "execution_count": null,
   "metadata": {
    "collapsed": true
   },
   "outputs": [],
   "source": []
  }
 ],
 "metadata": {
  "anaconda-cloud": {},
  "kernelspec": {
   "display_name": "Python [conda env:econ]",
   "language": "python",
   "name": "conda-env-econ-py"
  },
  "language_info": {
   "codemirror_mode": {
    "name": "ipython",
    "version": 2
   },
   "file_extension": ".py",
   "mimetype": "text/x-python",
   "name": "python",
   "nbconvert_exporter": "python",
   "pygments_lexer": "ipython2",
   "version": "2.7.12"
  }
 },
 "nbformat": 4,
 "nbformat_minor": 2
}
