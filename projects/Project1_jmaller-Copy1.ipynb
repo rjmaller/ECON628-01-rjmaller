{
 "cells": [
  {
   "cell_type": "code",
   "execution_count": 4,
   "metadata": {
    "collapsed": false
   },
   "outputs": [],
   "source": [
    "# import data modules\n",
    "import numpy as np\n",
    "import scipy.stats as stats\n",
    "import pandas as pd\n",
    "\n",
    "#import plotting modules\n",
    "import matplotlib.pyplot as plt\n",
    "import seaborn as sns\n",
    "sns.set_style('whitegrid')\n",
    "\n",
    "#import stats/regression packages\n",
    "from sklearn import linear_model\n",
    "from sklearn.metrics import mean_squared_error\n",
    "\n",
    "# make sure charts appear in the notebook\n",
    "%matplotlib inline\n",
    "%config InlineBackend.figure_format ='retina'"
   ]
  },
  {
   "cell_type": "code",
   "execution_count": 5,
   "metadata": {
    "collapsed": true
   },
   "outputs": [],
   "source": [
    "df = pd.read_stata(\"/Users/jmaller/Desktop/ECON628-01-rjmaller/datasets/my_data/replication_data_village_incident.dta\")"
   ]
  },
  {
   "cell_type": "code",
   "execution_count": 6,
   "metadata": {
    "collapsed": false
   },
   "outputs": [
    {
     "name": "stdout",
     "output_type": "stream",
     "text": [
      "<class 'pandas.core.frame.DataFrame'>\n",
      "Int64Index: 15600 entries, 0 to 15599\n",
      "Data columns (total 22 columns):\n",
      "province           15600 non-null object\n",
      "municipality       15600 non-null object\n",
      "barangay           15600 non-null float32\n",
      "year               15600 non-null float32\n",
      "month              15600 non-null float32\n",
      "treat              15600 non-null float32\n",
      "pop00              15600 non-null float32\n",
      "streetpattern      15600 non-null float32\n",
      "power              15600 non-null float32\n",
      "comm_waterworks    15600 non-null float32\n",
      "hospital           15600 non-null float32\n",
      "clinic             15600 non-null float32\n",
      "acc_natl_hwy       15600 non-null float32\n",
      "incidents          15600 non-null float64\n",
      "treat_dist_3       15600 non-null float64\n",
      "treat_dist_5       15600 non-null float64\n",
      "treat_dist_7       15600 non-null float64\n",
      "control_dist_3     15600 non-null float64\n",
      "control_dist_5     15600 non-null float64\n",
      "control_dist_7     15600 non-null float64\n",
      "totcas             15600 non-null float64\n",
      "_merge             15600 non-null category\n",
      "dtypes: category(1), float32(11), float64(8), object(2)\n",
      "memory usage: 2.0+ MB\n"
     ]
    }
   ],
   "source": [
    "df.info()"
   ]
  },
  {
   "cell_type": "code",
   "execution_count": 7,
   "metadata": {
    "collapsed": false
   },
   "outputs": [
    {
     "data": {
      "text/html": [
       "<div>\n",
       "<table border=\"1\" class=\"dataframe\">\n",
       "  <thead>\n",
       "    <tr style=\"text-align: right;\">\n",
       "      <th></th>\n",
       "      <th>count</th>\n",
       "      <th>mean</th>\n",
       "      <th>std</th>\n",
       "      <th>min</th>\n",
       "      <th>25%</th>\n",
       "      <th>50%</th>\n",
       "      <th>75%</th>\n",
       "      <th>max</th>\n",
       "    </tr>\n",
       "  </thead>\n",
       "  <tbody>\n",
       "    <tr>\n",
       "      <th>barangay</th>\n",
       "      <td>15600.0</td>\n",
       "      <td>65.500000</td>\n",
       "      <td>37.524776</td>\n",
       "      <td>1.0</td>\n",
       "      <td>33.00</td>\n",
       "      <td>65.5</td>\n",
       "      <td>98.00</td>\n",
       "      <td>130.0</td>\n",
       "    </tr>\n",
       "    <tr>\n",
       "      <th>year</th>\n",
       "      <td>15600.0</td>\n",
       "      <td>2005.453125</td>\n",
       "      <td>2.872634</td>\n",
       "      <td>2001.0</td>\n",
       "      <td>2003.00</td>\n",
       "      <td>2005.5</td>\n",
       "      <td>2008.00</td>\n",
       "      <td>2010.0</td>\n",
       "    </tr>\n",
       "    <tr>\n",
       "      <th>month</th>\n",
       "      <td>15600.0</td>\n",
       "      <td>6.500000</td>\n",
       "      <td>3.452163</td>\n",
       "      <td>1.0</td>\n",
       "      <td>3.75</td>\n",
       "      <td>6.5</td>\n",
       "      <td>9.25</td>\n",
       "      <td>12.0</td>\n",
       "    </tr>\n",
       "    <tr>\n",
       "      <th>treat</th>\n",
       "      <td>15600.0</td>\n",
       "      <td>0.500000</td>\n",
       "      <td>0.500016</td>\n",
       "      <td>0.0</td>\n",
       "      <td>0.00</td>\n",
       "      <td>0.5</td>\n",
       "      <td>1.00</td>\n",
       "      <td>1.0</td>\n",
       "    </tr>\n",
       "    <tr>\n",
       "      <th>pop00</th>\n",
       "      <td>15600.0</td>\n",
       "      <td>1446.995850</td>\n",
       "      <td>1262.891602</td>\n",
       "      <td>183.0</td>\n",
       "      <td>659.00</td>\n",
       "      <td>1137.5</td>\n",
       "      <td>1757.00</td>\n",
       "      <td>10015.0</td>\n",
       "    </tr>\n",
       "    <tr>\n",
       "      <th>streetpattern</th>\n",
       "      <td>15600.0</td>\n",
       "      <td>0.269231</td>\n",
       "      <td>0.443581</td>\n",
       "      <td>0.0</td>\n",
       "      <td>0.00</td>\n",
       "      <td>0.0</td>\n",
       "      <td>1.00</td>\n",
       "      <td>1.0</td>\n",
       "    </tr>\n",
       "    <tr>\n",
       "      <th>power</th>\n",
       "      <td>15600.0</td>\n",
       "      <td>0.607692</td>\n",
       "      <td>0.488285</td>\n",
       "      <td>0.0</td>\n",
       "      <td>0.00</td>\n",
       "      <td>1.0</td>\n",
       "      <td>1.00</td>\n",
       "      <td>1.0</td>\n",
       "    </tr>\n",
       "    <tr>\n",
       "      <th>comm_waterworks</th>\n",
       "      <td>15600.0</td>\n",
       "      <td>0.161538</td>\n",
       "      <td>0.368056</td>\n",
       "      <td>0.0</td>\n",
       "      <td>0.00</td>\n",
       "      <td>0.0</td>\n",
       "      <td>0.00</td>\n",
       "      <td>1.0</td>\n",
       "    </tr>\n",
       "    <tr>\n",
       "      <th>hospital</th>\n",
       "      <td>15600.0</td>\n",
       "      <td>0.038462</td>\n",
       "      <td>0.192296</td>\n",
       "      <td>0.0</td>\n",
       "      <td>0.00</td>\n",
       "      <td>0.0</td>\n",
       "      <td>0.00</td>\n",
       "      <td>1.0</td>\n",
       "    </tr>\n",
       "    <tr>\n",
       "      <th>clinic</th>\n",
       "      <td>15600.0</td>\n",
       "      <td>0.476923</td>\n",
       "      <td>0.499511</td>\n",
       "      <td>0.0</td>\n",
       "      <td>0.00</td>\n",
       "      <td>0.0</td>\n",
       "      <td>1.00</td>\n",
       "      <td>1.0</td>\n",
       "    </tr>\n",
       "    <tr>\n",
       "      <th>acc_natl_hwy</th>\n",
       "      <td>15600.0</td>\n",
       "      <td>0.500000</td>\n",
       "      <td>0.500016</td>\n",
       "      <td>0.0</td>\n",
       "      <td>0.00</td>\n",
       "      <td>0.5</td>\n",
       "      <td>1.00</td>\n",
       "      <td>1.0</td>\n",
       "    </tr>\n",
       "    <tr>\n",
       "      <th>incidents</th>\n",
       "      <td>15600.0</td>\n",
       "      <td>0.006538</td>\n",
       "      <td>0.104803</td>\n",
       "      <td>0.0</td>\n",
       "      <td>0.00</td>\n",
       "      <td>0.0</td>\n",
       "      <td>0.00</td>\n",
       "      <td>6.0</td>\n",
       "    </tr>\n",
       "    <tr>\n",
       "      <th>treat_dist_3</th>\n",
       "      <td>15600.0</td>\n",
       "      <td>2.730769</td>\n",
       "      <td>2.559494</td>\n",
       "      <td>0.0</td>\n",
       "      <td>0.00</td>\n",
       "      <td>2.0</td>\n",
       "      <td>5.00</td>\n",
       "      <td>10.0</td>\n",
       "    </tr>\n",
       "    <tr>\n",
       "      <th>treat_dist_5</th>\n",
       "      <td>15600.0</td>\n",
       "      <td>5.646154</td>\n",
       "      <td>4.348192</td>\n",
       "      <td>0.0</td>\n",
       "      <td>1.00</td>\n",
       "      <td>6.0</td>\n",
       "      <td>10.00</td>\n",
       "      <td>14.0</td>\n",
       "    </tr>\n",
       "    <tr>\n",
       "      <th>treat_dist_7</th>\n",
       "      <td>15600.0</td>\n",
       "      <td>8.046154</td>\n",
       "      <td>5.564987</td>\n",
       "      <td>0.0</td>\n",
       "      <td>2.00</td>\n",
       "      <td>10.0</td>\n",
       "      <td>13.00</td>\n",
       "      <td>17.0</td>\n",
       "    </tr>\n",
       "    <tr>\n",
       "      <th>control_dist_3</th>\n",
       "      <td>15600.0</td>\n",
       "      <td>2.530769</td>\n",
       "      <td>2.569693</td>\n",
       "      <td>0.0</td>\n",
       "      <td>0.00</td>\n",
       "      <td>2.0</td>\n",
       "      <td>4.00</td>\n",
       "      <td>10.0</td>\n",
       "    </tr>\n",
       "    <tr>\n",
       "      <th>control_dist_5</th>\n",
       "      <td>15600.0</td>\n",
       "      <td>5.184615</td>\n",
       "      <td>3.858750</td>\n",
       "      <td>0.0</td>\n",
       "      <td>2.00</td>\n",
       "      <td>5.0</td>\n",
       "      <td>8.00</td>\n",
       "      <td>12.0</td>\n",
       "    </tr>\n",
       "    <tr>\n",
       "      <th>control_dist_7</th>\n",
       "      <td>15600.0</td>\n",
       "      <td>7.446154</td>\n",
       "      <td>4.703769</td>\n",
       "      <td>0.0</td>\n",
       "      <td>3.00</td>\n",
       "      <td>8.0</td>\n",
       "      <td>12.00</td>\n",
       "      <td>16.0</td>\n",
       "    </tr>\n",
       "    <tr>\n",
       "      <th>totcas</th>\n",
       "      <td>15600.0</td>\n",
       "      <td>0.002436</td>\n",
       "      <td>0.109169</td>\n",
       "      <td>0.0</td>\n",
       "      <td>0.00</td>\n",
       "      <td>0.0</td>\n",
       "      <td>0.00</td>\n",
       "      <td>10.0</td>\n",
       "    </tr>\n",
       "  </tbody>\n",
       "</table>\n",
       "</div>"
      ],
      "text/plain": [
       "                   count         mean          std     min      25%     50%  \\\n",
       "barangay         15600.0    65.500000    37.524776     1.0    33.00    65.5   \n",
       "year             15600.0  2005.453125     2.872634  2001.0  2003.00  2005.5   \n",
       "month            15600.0     6.500000     3.452163     1.0     3.75     6.5   \n",
       "treat            15600.0     0.500000     0.500016     0.0     0.00     0.5   \n",
       "pop00            15600.0  1446.995850  1262.891602   183.0   659.00  1137.5   \n",
       "streetpattern    15600.0     0.269231     0.443581     0.0     0.00     0.0   \n",
       "power            15600.0     0.607692     0.488285     0.0     0.00     1.0   \n",
       "comm_waterworks  15600.0     0.161538     0.368056     0.0     0.00     0.0   \n",
       "hospital         15600.0     0.038462     0.192296     0.0     0.00     0.0   \n",
       "clinic           15600.0     0.476923     0.499511     0.0     0.00     0.0   \n",
       "acc_natl_hwy     15600.0     0.500000     0.500016     0.0     0.00     0.5   \n",
       "incidents        15600.0     0.006538     0.104803     0.0     0.00     0.0   \n",
       "treat_dist_3     15600.0     2.730769     2.559494     0.0     0.00     2.0   \n",
       "treat_dist_5     15600.0     5.646154     4.348192     0.0     1.00     6.0   \n",
       "treat_dist_7     15600.0     8.046154     5.564987     0.0     2.00    10.0   \n",
       "control_dist_3   15600.0     2.530769     2.569693     0.0     0.00     2.0   \n",
       "control_dist_5   15600.0     5.184615     3.858750     0.0     2.00     5.0   \n",
       "control_dist_7   15600.0     7.446154     4.703769     0.0     3.00     8.0   \n",
       "totcas           15600.0     0.002436     0.109169     0.0     0.00     0.0   \n",
       "\n",
       "                     75%      max  \n",
       "barangay           98.00    130.0  \n",
       "year             2008.00   2010.0  \n",
       "month               9.25     12.0  \n",
       "treat               1.00      1.0  \n",
       "pop00            1757.00  10015.0  \n",
       "streetpattern       1.00      1.0  \n",
       "power               1.00      1.0  \n",
       "comm_waterworks     0.00      1.0  \n",
       "hospital            0.00      1.0  \n",
       "clinic              1.00      1.0  \n",
       "acc_natl_hwy        1.00      1.0  \n",
       "incidents           0.00      6.0  \n",
       "treat_dist_3        5.00     10.0  \n",
       "treat_dist_5       10.00     14.0  \n",
       "treat_dist_7       13.00     17.0  \n",
       "control_dist_3      4.00     10.0  \n",
       "control_dist_5      8.00     12.0  \n",
       "control_dist_7     12.00     16.0  \n",
       "totcas              0.00     10.0  "
      ]
     },
     "execution_count": 7,
     "metadata": {},
     "output_type": "execute_result"
    }
   ],
   "source": [
    "df.describe().T"
   ]
  },
  {
   "cell_type": "code",
   "execution_count": 8,
   "metadata": {
    "collapsed": false
   },
   "outputs": [
    {
     "data": {
      "text/html": [
       "<div>\n",
       "<table border=\"1\" class=\"dataframe\">\n",
       "  <thead>\n",
       "    <tr style=\"text-align: right;\">\n",
       "      <th></th>\n",
       "      <th>treat</th>\n",
       "      <th>incidents</th>\n",
       "      <th>totcas</th>\n",
       "    </tr>\n",
       "  </thead>\n",
       "  <tbody>\n",
       "    <tr>\n",
       "      <th>0</th>\n",
       "      <td>0.0</td>\n",
       "      <td>0.006538</td>\n",
       "      <td>0.001154</td>\n",
       "    </tr>\n",
       "    <tr>\n",
       "      <th>1</th>\n",
       "      <td>1.0</td>\n",
       "      <td>0.006538</td>\n",
       "      <td>0.003718</td>\n",
       "    </tr>\n",
       "  </tbody>\n",
       "</table>\n",
       "</div>"
      ],
      "text/plain": [
       "   treat  incidents    totcas\n",
       "0    0.0   0.006538  0.001154\n",
       "1    1.0   0.006538  0.003718"
      ]
     },
     "execution_count": 8,
     "metadata": {},
     "output_type": "execute_result"
    }
   ],
   "source": [
    "#summary table showing mean number of incidents and mean number of total casualties for treatment and control groups\n",
    "df.groupby(['treat'], sort=True)[['incidents', 'totcas']].mean().sort_values(by=['incidents'], ascending=False).reset_index()"
   ]
  },
  {
   "cell_type": "code",
   "execution_count": 9,
   "metadata": {
    "collapsed": false
   },
   "outputs": [
    {
     "data": {
      "text/html": [
       "<div>\n",
       "<table border=\"1\" class=\"dataframe\">\n",
       "  <thead>\n",
       "    <tr style=\"text-align: right;\">\n",
       "      <th></th>\n",
       "      <th>treat</th>\n",
       "      <th>pop00</th>\n",
       "      <th>streetpattern</th>\n",
       "      <th>power</th>\n",
       "      <th>comm_waterworks</th>\n",
       "      <th>hospital</th>\n",
       "      <th>clinic</th>\n",
       "      <th>acc_natl_hwy</th>\n",
       "    </tr>\n",
       "  </thead>\n",
       "  <tbody>\n",
       "    <tr>\n",
       "      <th>0</th>\n",
       "      <td>1.0</td>\n",
       "      <td>1474.584595</td>\n",
       "      <td>0.215385</td>\n",
       "      <td>0.553846</td>\n",
       "      <td>0.169231</td>\n",
       "      <td>0.030769</td>\n",
       "      <td>0.461538</td>\n",
       "      <td>0.476923</td>\n",
       "    </tr>\n",
       "    <tr>\n",
       "      <th>1</th>\n",
       "      <td>0.0</td>\n",
       "      <td>1419.492310</td>\n",
       "      <td>0.323077</td>\n",
       "      <td>0.661538</td>\n",
       "      <td>0.153846</td>\n",
       "      <td>0.046154</td>\n",
       "      <td>0.492308</td>\n",
       "      <td>0.523077</td>\n",
       "    </tr>\n",
       "  </tbody>\n",
       "</table>\n",
       "</div>"
      ],
      "text/plain": [
       "   treat        pop00  streetpattern     power  comm_waterworks  hospital  \\\n",
       "0    1.0  1474.584595       0.215385  0.553846         0.169231  0.030769   \n",
       "1    0.0  1419.492310       0.323077  0.661538         0.153846  0.046154   \n",
       "\n",
       "     clinic  acc_natl_hwy  \n",
       "0  0.461538      0.476923  \n",
       "1  0.492308      0.523077  "
      ]
     },
     "execution_count": 9,
     "metadata": {},
     "output_type": "execute_result"
    }
   ],
   "source": [
    "#balancing table showing mean value of control variables for treatment and control groups\n",
    "df.groupby(['treat'], sort=True)[['pop00', 'streetpattern', 'power', 'comm_waterworks', 'hospital', 'clinic', 'acc_natl_hwy']].mean().sort_values(by=['pop00'], ascending=False).reset_index()\n",
    "    "
   ]
  },
  {
   "cell_type": "code",
   "execution_count": 1,
   "metadata": {
    "collapsed": false
   },
   "outputs": [
    {
     "ename": "NameError",
     "evalue": "name 'df' is not defined",
     "output_type": "error",
     "traceback": [
      "\u001b[0;31m---------------------------------------------------------------------------\u001b[0m",
      "\u001b[0;31mNameError\u001b[0m                                 Traceback (most recent call last)",
      "\u001b[0;32m<ipython-input-1-5694c4a143d3>\u001b[0m in \u001b[0;36m<module>\u001b[0;34m()\u001b[0m\n\u001b[1;32m      1\u001b[0m \u001b[0;31m#balancing table showing mean value of control variables for treatment and control groups\u001b[0m\u001b[0;34m\u001b[0m\u001b[0;34m\u001b[0m\u001b[0m\n\u001b[0;32m----> 2\u001b[0;31m \u001b[0mdf\u001b[0m\u001b[0;34m.\u001b[0m\u001b[0mgroupby\u001b[0m\u001b[0;34m(\u001b[0m\u001b[0;34m[\u001b[0m\u001b[0;34m'municipality'\u001b[0m\u001b[0;34m]\u001b[0m\u001b[0;34m,\u001b[0m \u001b[0msort\u001b[0m\u001b[0;34m=\u001b[0m\u001b[0mTrue\u001b[0m\u001b[0;34m)\u001b[0m\u001b[0;34m[\u001b[0m\u001b[0;34m[\u001b[0m\u001b[0;34m'pop00'\u001b[0m\u001b[0;34m,\u001b[0m \u001b[0;34m'streetpattern'\u001b[0m\u001b[0;34m,\u001b[0m \u001b[0;34m'power'\u001b[0m\u001b[0;34m,\u001b[0m \u001b[0;34m'comm_waterworks'\u001b[0m\u001b[0;34m,\u001b[0m \u001b[0;34m'hospital'\u001b[0m\u001b[0;34m,\u001b[0m \u001b[0;34m'clinic'\u001b[0m\u001b[0;34m,\u001b[0m \u001b[0;34m'acc_natl_hwy'\u001b[0m\u001b[0;34m]\u001b[0m\u001b[0;34m]\u001b[0m\u001b[0;34m.\u001b[0m\u001b[0mmean\u001b[0m\u001b[0;34m(\u001b[0m\u001b[0;34m)\u001b[0m\u001b[0;34m.\u001b[0m\u001b[0msort_values\u001b[0m\u001b[0;34m(\u001b[0m\u001b[0mby\u001b[0m\u001b[0;34m=\u001b[0m\u001b[0;34m[\u001b[0m\u001b[0;34m'pop00'\u001b[0m\u001b[0;34m]\u001b[0m\u001b[0;34m,\u001b[0m \u001b[0mascending\u001b[0m\u001b[0;34m=\u001b[0m\u001b[0mFalse\u001b[0m\u001b[0;34m)\u001b[0m\u001b[0;34m.\u001b[0m\u001b[0mreset_index\u001b[0m\u001b[0;34m(\u001b[0m\u001b[0;34m)\u001b[0m\u001b[0;34m\u001b[0m\u001b[0m\n\u001b[0m\u001b[1;32m      3\u001b[0m \u001b[0;34m\u001b[0m\u001b[0m\n",
      "\u001b[0;31mNameError\u001b[0m: name 'df' is not defined"
     ]
    }
   ],
   "source": []
  },
  {
   "cell_type": "code",
   "execution_count": 10,
   "metadata": {
    "collapsed": true
   },
   "outputs": [],
   "source": [
    "def histogram_plotter(title, data):\n",
    "    sns.set(rc={\"figure.figsize\": (10, 7)})\n",
    "    sns.set_style('white')\n",
    "#     dist = sns.distplot(data, kde=False, bins=30)\n",
    "    dist = sns.distplot(data, hist_kws={'alpha':0.2}, kde_kws={'linewidth':5})\n",
    "    \n",
    "    dist.axvline(np.mean(data), lw=5, c='darkred', ls='dashed')\n",
    "    average_roll = '{0:.2f}'.format(np.mean(data))\n",
    "    title = 'Distribution of ' + title + '; average = '  + average_roll + '\\n'\n",
    "    dist.set_title(title, fontsize=16)\n",
    "    dist = sns.distplot(data, hist_kws={'alpha':0.2}, kde_kws={'linewidth':5})"
   ]
  },
  {
   "cell_type": "code",
   "execution_count": 11,
   "metadata": {
    "collapsed": false
   },
   "outputs": [
    {
     "data": {
      "image/png": "[encoded data removed]",
      "text/plain": [
       "<matplotlib.figure.Figure at 0x114e67290>"
      ]
     },
     "metadata": {
      "image/png": {
       "height": 656,
       "width": 817
      }
     },
     "output_type": "display_data"
    }
   ],
   "source": [
    "histogram_plotter(\"Incidents\", df.incidents)"
   ]
  },
  {
   "cell_type": "code",
   "execution_count": null,
   "metadata": {
    "collapsed": true
   },
   "outputs": [],
   "source": [
    "histogram_plotter(\"Incidents\", df.incidents)"
   ]
  }
 ],
 "metadata": {
  "anaconda-cloud": {},
  "kernelspec": {
   "display_name": "Python [conda env:econ]",
   "language": "python",
   "name": "conda-env-econ-py"
  },
  "language_info": {
   "codemirror_mode": {
    "name": "ipython",
    "version": 2
   },
   "file_extension": ".py",
   "mimetype": "text/x-python",
   "name": "python",
   "nbconvert_exporter": "python",
   "pygments_lexer": "ipython2",
   "version": "2.7.12"
  }
 },
 "nbformat": 4,
 "nbformat_minor": 1
}
